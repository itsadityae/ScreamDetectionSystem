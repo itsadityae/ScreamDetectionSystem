{
  "cells": [
    {
      "cell_type": "code",
      "execution_count": 7,
      "metadata": {
        "colab": {
          "base_uri": "https://localhost:8080/"
        },
        "id": "yEOKLpOokiH2",
        "outputId": "44a4e76f-49fc-44c2-881c-45b08921ccd2"
      },
      "outputs": [
        {
          "name": "stdout",
          "output_type": "stream",
          "text": [
            "Mounted at /content/drive\n"
          ]
        }
      ],
      "source": [
        "# from google.colab import drive\n",
        "# drive.mount('/content/drive')\n"
      ]
    },
    {
      "cell_type": "code",
      "execution_count": 8,
      "metadata": {
        "colab": {
          "base_uri": "https://localhost:8080/"
        },
        "id": "mTalle1sllO4",
        "outputId": "7036d3c2-b8e7-49fe-99c1-dffbd3b46abe"
      },
      "outputs": [
        {
          "name": "stdout",
          "output_type": "stream",
          "text": [
            "Data Shape: (143, 40), Labels Shape: (143,)\n"
          ]
        }
      ],
      "source": [
        "import os\n",
        "import librosa\n",
        "import numpy as np\n",
        "\n",
        "# Define paths\n",
        "positive_path = \"\"\n",
        "negative_path = \"\"\n",
        "\n",
        "# Function to extract features\n",
        "def extract_features(file_path):\n",
        "    audio, sr = librosa.load(file_path, sr=None)\n",
        "    mfccs = librosa.feature.mfcc(y=audio, sr=sr, n_mfcc=40)\n",
        "    return np.mean(mfccs.T, axis=0)\n",
        "\n",
        "# Prepare dataset\n",
        "def prepare_dataset(folder_path, label):\n",
        "    features = []\n",
        "    labels = []\n",
        "    for file_name in os.listdir(folder_path):\n",
        "        if file_name.endswith('.wav'):  # Adjust if needed\n",
        "            file_path = os.path.join(folder_path, file_name)\n",
        "            features.append(extract_features(file_path))\n",
        "            labels.append(label)\n",
        "    return features, labels\n",
        "\n",
        "positive_features, positive_labels = prepare_dataset(positive_path, 1)\n",
        "negative_features, negative_labels = prepare_dataset(negative_path, 0)\n",
        "\n",
        "# Combine features and labels\n",
        "X = np.array(positive_features + negative_features)\n",
        "y = np.array(positive_labels + negative_labels)\n",
        "\n",
        "print(f\"Data Shape: {X.shape}, Labels Shape: {y.shape}\")\n"
      ]
    },
    {
      "cell_type": "code",
      "execution_count": 9,
      "metadata": {
        "id": "STnMUypzuxug"
      },
      "outputs": [],
      "source": [
        "from sklearn.model_selection import train_test_split\n",
        "\n",
        "X_train, X_test, y_train, y_test = train_test_split(X, y, test_size=0.2, random_state=42)\n"
      ]
    },
    {
      "cell_type": "code",
      "execution_count": 10,
      "metadata": {
        "colab": {
          "base_uri": "https://localhost:8080/"
        },
        "id": "7LnA-5rwvdog",
        "outputId": "af9b28ff-a079-4927-b714-de0b51c339dc"
      },
      "outputs": [
        {
          "name": "stdout",
          "output_type": "stream",
          "text": [
            "Epoch 1/30\n"
          ]
        },
        {
          "name": "stderr",
          "output_type": "stream",
          "text": [
            "/usr/local/lib/python3.11/dist-packages/keras/src/layers/core/dense.py:87: UserWarning: Do not pass an `input_shape`/`input_dim` argument to a layer. When using Sequential models, prefer using an `Input(shape)` object as the first layer in the model instead.\n",
            "  super().__init__(activity_regularizer=activity_regularizer, **kwargs)\n"
          ]
        },
        {
          "name": "stdout",
          "output_type": "stream",
          "text": [
            "\u001b[1m3/3\u001b[0m \u001b[32m━━━━━━━━━━━━━━━━━━━━\u001b[0m\u001b[37m\u001b[0m \u001b[1m2s\u001b[0m 102ms/step - accuracy: 0.5732 - loss: 4.7631 - val_accuracy: 0.5217 - val_loss: 1.8539\n",
            "Epoch 2/30\n",
            "\u001b[1m3/3\u001b[0m \u001b[32m━━━━━━━━━━━━━━━━━━━━\u001b[0m\u001b[37m\u001b[0m \u001b[1m0s\u001b[0m 18ms/step - accuracy: 0.7315 - loss: 0.8760 - val_accuracy: 0.9565 - val_loss: 0.4577\n",
            "Epoch 3/30\n",
            "\u001b[1m3/3\u001b[0m \u001b[32m━━━━━━━━━━━━━━━━━━━━\u001b[0m\u001b[37m\u001b[0m \u001b[1m0s\u001b[0m 18ms/step - accuracy: 0.8755 - loss: 0.7707 - val_accuracy: 0.9565 - val_loss: 0.6616\n",
            "Epoch 4/30\n",
            "\u001b[1m3/3\u001b[0m \u001b[32m━━━━━━━━━━━━━━━━━━━━\u001b[0m\u001b[37m\u001b[0m \u001b[1m0s\u001b[0m 17ms/step - accuracy: 0.9335 - loss: 0.5685 - val_accuracy: 0.9565 - val_loss: 0.3697\n",
            "Epoch 5/30\n",
            "\u001b[1m3/3\u001b[0m \u001b[32m━━━━━━━━━━━━━━━━━━━━\u001b[0m\u001b[37m\u001b[0m \u001b[1m0s\u001b[0m 16ms/step - accuracy: 0.9429 - loss: 0.3111 - val_accuracy: 1.0000 - val_loss: 0.0141\n",
            "Epoch 6/30\n",
            "\u001b[1m3/3\u001b[0m \u001b[32m━━━━━━━━━━━━━━━━━━━━\u001b[0m\u001b[37m\u001b[0m \u001b[1m0s\u001b[0m 17ms/step - accuracy: 0.9640 - loss: 0.3116 - val_accuracy: 1.0000 - val_loss: 0.0305\n",
            "Epoch 7/30\n",
            "\u001b[1m3/3\u001b[0m \u001b[32m━━━━━━━━━━━━━━━━━━━━\u001b[0m\u001b[37m\u001b[0m \u001b[1m0s\u001b[0m 17ms/step - accuracy: 0.9812 - loss: 0.2191 - val_accuracy: 1.0000 - val_loss: 0.0022\n",
            "Epoch 8/30\n",
            "\u001b[1m3/3\u001b[0m \u001b[32m━━━━━━━━━━━━━━━━━━━━\u001b[0m\u001b[37m\u001b[0m \u001b[1m0s\u001b[0m 16ms/step - accuracy: 0.9945 - loss: 0.0910 - val_accuracy: 1.0000 - val_loss: 0.0132\n",
            "Epoch 9/30\n",
            "\u001b[1m3/3\u001b[0m \u001b[32m━━━━━━━━━━━━━━━━━━━━\u001b[0m\u001b[37m\u001b[0m \u001b[1m0s\u001b[0m 19ms/step - accuracy: 0.9828 - loss: 0.2406 - val_accuracy: 0.9565 - val_loss: 0.1473\n",
            "Epoch 10/30\n",
            "\u001b[1m3/3\u001b[0m \u001b[32m━━━━━━━━━━━━━━━━━━━━\u001b[0m\u001b[37m\u001b[0m \u001b[1m0s\u001b[0m 16ms/step - accuracy: 0.9656 - loss: 0.1877 - val_accuracy: 0.9565 - val_loss: 0.3276\n",
            "Epoch 11/30\n",
            "\u001b[1m3/3\u001b[0m \u001b[32m━━━━━━━━━━━━━━━━━━━━\u001b[0m\u001b[37m\u001b[0m \u001b[1m0s\u001b[0m 16ms/step - accuracy: 0.9679 - loss: 0.1408 - val_accuracy: 0.9565 - val_loss: 0.4661\n",
            "Epoch 12/30\n",
            "\u001b[1m3/3\u001b[0m \u001b[32m━━━━━━━━━━━━━━━━━━━━\u001b[0m\u001b[37m\u001b[0m \u001b[1m0s\u001b[0m 21ms/step - accuracy: 0.9484 - loss: 0.1708 - val_accuracy: 0.9565 - val_loss: 0.4492\n",
            "Epoch 13/30\n",
            "\u001b[1m3/3\u001b[0m \u001b[32m━━━━━━━━━━━━━━━━━━━━\u001b[0m\u001b[37m\u001b[0m \u001b[1m0s\u001b[0m 22ms/step - accuracy: 0.9656 - loss: 0.1291 - val_accuracy: 0.9565 - val_loss: 0.3703\n",
            "Epoch 14/30\n",
            "\u001b[1m3/3\u001b[0m \u001b[32m━━━━━━━━━━━━━━━━━━━━\u001b[0m\u001b[37m\u001b[0m \u001b[1m0s\u001b[0m 20ms/step - accuracy: 0.9656 - loss: 0.0870 - val_accuracy: 0.9565 - val_loss: 0.2908\n",
            "Epoch 15/30\n",
            "\u001b[1m3/3\u001b[0m \u001b[32m━━━━━━━━━━━━━━━━━━━━\u001b[0m\u001b[37m\u001b[0m \u001b[1m0s\u001b[0m 17ms/step - accuracy: 0.9773 - loss: 0.0414 - val_accuracy: 0.9565 - val_loss: 0.2230\n",
            "Epoch 16/30\n",
            "\u001b[1m3/3\u001b[0m \u001b[32m━━━━━━━━━━━━━━━━━━━━\u001b[0m\u001b[37m\u001b[0m \u001b[1m0s\u001b[0m 16ms/step - accuracy: 0.9906 - loss: 0.0432 - val_accuracy: 0.9565 - val_loss: 0.2861\n",
            "Epoch 17/30\n",
            "\u001b[1m3/3\u001b[0m \u001b[32m━━━━━━━━━━━━━━━━━━━━\u001b[0m\u001b[37m\u001b[0m \u001b[1m0s\u001b[0m 16ms/step - accuracy: 0.9906 - loss: 0.0259 - val_accuracy: 0.9565 - val_loss: 0.3883\n",
            "Epoch 18/30\n",
            "\u001b[1m3/3\u001b[0m \u001b[32m━━━━━━━━━━━━━━━━━━━━\u001b[0m\u001b[37m\u001b[0m \u001b[1m0s\u001b[0m 18ms/step - accuracy: 0.9945 - loss: 0.0113 - val_accuracy: 0.9565 - val_loss: 0.4558\n",
            "Epoch 19/30\n",
            "\u001b[1m3/3\u001b[0m \u001b[32m━━━━━━━━━━━━━━━━━━━━\u001b[0m\u001b[37m\u001b[0m \u001b[1m0s\u001b[0m 19ms/step - accuracy: 0.9906 - loss: 0.0157 - val_accuracy: 0.9565 - val_loss: 0.4325\n",
            "Epoch 20/30\n",
            "\u001b[1m3/3\u001b[0m \u001b[32m━━━━━━━━━━━━━━━━━━━━\u001b[0m\u001b[37m\u001b[0m \u001b[1m0s\u001b[0m 17ms/step - accuracy: 1.0000 - loss: 0.0084 - val_accuracy: 0.9565 - val_loss: 0.4074\n",
            "Epoch 21/30\n",
            "\u001b[1m3/3\u001b[0m \u001b[32m━━━━━━━━━━━━━━━━━━━━\u001b[0m\u001b[37m\u001b[0m \u001b[1m0s\u001b[0m 16ms/step - accuracy: 1.0000 - loss: 0.0117 - val_accuracy: 0.9565 - val_loss: 0.4048\n",
            "Epoch 22/30\n",
            "\u001b[1m3/3\u001b[0m \u001b[32m━━━━━━━━━━━━━━━━━━━━\u001b[0m\u001b[37m\u001b[0m \u001b[1m0s\u001b[0m 18ms/step - accuracy: 1.0000 - loss: 0.0028 - val_accuracy: 0.9565 - val_loss: 0.4081\n",
            "Epoch 23/30\n",
            "\u001b[1m3/3\u001b[0m \u001b[32m━━━━━━━━━━━━━━━━━━━━\u001b[0m\u001b[37m\u001b[0m \u001b[1m0s\u001b[0m 17ms/step - accuracy: 1.0000 - loss: 0.0066 - val_accuracy: 0.9565 - val_loss: 0.4431\n",
            "Epoch 24/30\n",
            "\u001b[1m3/3\u001b[0m \u001b[32m━━━━━━━━━━━━━━━━━━━━\u001b[0m\u001b[37m\u001b[0m \u001b[1m0s\u001b[0m 18ms/step - accuracy: 1.0000 - loss: 0.0045 - val_accuracy: 0.9565 - val_loss: 0.4615\n",
            "Epoch 25/30\n",
            "\u001b[1m3/3\u001b[0m \u001b[32m━━━━━━━━━━━━━━━━━━━━\u001b[0m\u001b[37m\u001b[0m \u001b[1m0s\u001b[0m 21ms/step - accuracy: 1.0000 - loss: 0.0022 - val_accuracy: 0.9565 - val_loss: 0.4641\n",
            "Epoch 26/30\n",
            "\u001b[1m3/3\u001b[0m \u001b[32m━━━━━━━━━━━━━━━━━━━━\u001b[0m\u001b[37m\u001b[0m \u001b[1m0s\u001b[0m 19ms/step - accuracy: 1.0000 - loss: 0.0025 - val_accuracy: 0.9565 - val_loss: 0.4470\n",
            "Epoch 27/30\n",
            "\u001b[1m3/3\u001b[0m \u001b[32m━━━━━━━━━━━━━━━━━━━━\u001b[0m\u001b[37m\u001b[0m \u001b[1m0s\u001b[0m 18ms/step - accuracy: 1.0000 - loss: 0.0019 - val_accuracy: 0.9565 - val_loss: 0.4194\n",
            "Epoch 28/30\n",
            "\u001b[1m3/3\u001b[0m \u001b[32m━━━━━━━━━━━━━━━━━━━━\u001b[0m\u001b[37m\u001b[0m \u001b[1m0s\u001b[0m 17ms/step - accuracy: 1.0000 - loss: 0.0013 - val_accuracy: 0.9565 - val_loss: 0.3993\n",
            "Epoch 29/30\n",
            "\u001b[1m3/3\u001b[0m \u001b[32m━━━━━━━━━━━━━━━━━━━━\u001b[0m\u001b[37m\u001b[0m \u001b[1m0s\u001b[0m 17ms/step - accuracy: 1.0000 - loss: 9.7851e-04 - val_accuracy: 0.9565 - val_loss: 0.3848\n",
            "Epoch 30/30\n",
            "\u001b[1m3/3\u001b[0m \u001b[32m━━━━━━━━━━━━━━━━━━━━\u001b[0m\u001b[37m\u001b[0m \u001b[1m0s\u001b[0m 18ms/step - accuracy: 1.0000 - loss: 0.0017 - val_accuracy: 0.9565 - val_loss: 0.3848\n"
          ]
        },
        {
          "data": {
            "text/plain": [
              "<keras.src.callbacks.history.History at 0x793397023fd0>"
            ]
          },
          "execution_count": 10,
          "metadata": {},
          "output_type": "execute_result"
        }
      ],
      "source": [
        "from tensorflow.keras.models import Sequential\n",
        "from tensorflow.keras.layers import Dense\n",
        "\n",
        "# Define model\n",
        "model = Sequential([\n",
        "    Dense(128, activation='relu', input_shape=(X_train.shape[1],)),\n",
        "    Dense(64, activation='relu'),\n",
        "    Dense(1, activation='sigmoid')\n",
        "])\n",
        "\n",
        "# Compile the model\n",
        "model.compile(optimizer='adam', loss='binary_crossentropy', metrics=['accuracy'])\n",
        "\n",
        "# Train the model\n",
        "model.fit(X_train, y_train, epochs=30, batch_size=32, validation_split=0.2)\n"
      ]
    },
    {
      "cell_type": "code",
      "execution_count": 11,
      "metadata": {
        "colab": {
          "base_uri": "https://localhost:8080/"
        },
        "id": "UWyVm9awvpLZ",
        "outputId": "3379b51e-8a33-49ed-a1ca-8cef742a57fc"
      },
      "outputs": [
        {
          "name": "stdout",
          "output_type": "stream",
          "text": [
            "\u001b[1m1/1\u001b[0m \u001b[32m━━━━━━━━━━━━━━━━━━━━\u001b[0m\u001b[37m\u001b[0m \u001b[1m0s\u001b[0m 26ms/step - accuracy: 0.9310 - loss: 0.7935\n",
            "Test Accuracy: 93.10%\n"
          ]
        }
      ],
      "source": [
        "loss, accuracy = model.evaluate(X_test, y_test)\n",
        "print(f\"Test Accuracy: {accuracy * 100:.2f}%\")\n"
      ]
    },
    {
      "cell_type": "code",
      "execution_count": 12,
      "metadata": {
        "id": "MbsnsDSmvsWh"
      },
      "outputs": [],
      "source": [
        "model.save('/content/drive/MyDrive/scream_classifier.keras')\n"
      ]
    },
    {
      "cell_type": "code",
      "execution_count": 16,
      "metadata": {
        "colab": {
          "base_uri": "https://localhost:8080/"
        },
        "id": "yORmVEobvg9W",
        "outputId": "fe9dcd74-22ea-4d84-8c0c-22dc35fda8c4"
      },
      "outputs": [
        {
          "name": "stdout",
          "output_type": "stream",
          "text": [
            "\u001b[1m1/1\u001b[0m \u001b[32m━━━━━━━━━━━━━━━━━━━━\u001b[0m\u001b[37m\u001b[0m \u001b[1m0s\u001b[0m 81ms/step\n",
            "Positive (Danger)\n"
          ]
        }
      ],
      "source": [
        "def predict_scream(file_path, model):\n",
        "    features = extract_features(file_path)\n",
        "    features = np.expand_dims(features, axis=0)  # Reshape for the model\n",
        "    prediction = model.predict(features)\n",
        "    return \"Positive (Danger)\" if prediction[0][0] > 0.5 else \"Negative (No Danger)\"\n",
        "\n",
        "# Example usage\n",
        "test_audio = \"/content/drive/MyDrive/ScreamDetection/test/test1p.wav\"\n",
        "print(predict_scream(test_audio, model))\n"
      ]
    },
    {
      "cell_type": "code",
      "execution_count": 17,
      "metadata": {
        "colab": {
          "base_uri": "https://localhost:8080/"
        },
        "id": "9-gUtgoMvvo9",
        "outputId": "cfaf810a-b95f-4646-eb39-6b832c1665f7"
      },
      "outputs": [
        {
          "name": "stdout",
          "output_type": "stream",
          "text": [
            "\u001b[1m1/1\u001b[0m \u001b[32m━━━━━━━━━━━━━━━━━━━━\u001b[0m\u001b[37m\u001b[0m \u001b[1m0s\u001b[0m 29ms/step\n",
            "Positive (Danger)\n"
          ]
        }
      ],
      "source": [
        "def predict_scream(file_path, model):\n",
        "    features = extract_features(file_path)\n",
        "    features = np.expand_dims(features, axis=0)  # Reshape for the model\n",
        "    prediction = model.predict(features)\n",
        "    return \"Positive (Danger)\" if prediction[0][0] > 0.5 else \"Negative (No Danger)\"\n",
        "\n",
        "# Example usage\n",
        "test_audio = \"/content/drive/MyDrive/ScreamDetection/test/test2p.wav\"\n",
        "print(predict_scream(test_audio, model))"
      ]
    },
    {
      "cell_type": "code",
      "execution_count": 18,
      "metadata": {
        "colab": {
          "base_uri": "https://localhost:8080/"
        },
        "id": "aDv3bUT8wDqv",
        "outputId": "5b62be4a-540f-413f-f36e-33c1dad60870"
      },
      "outputs": [
        {
          "name": "stdout",
          "output_type": "stream",
          "text": [
            "\u001b[1m1/1\u001b[0m \u001b[32m━━━━━━━━━━━━━━━━━━━━\u001b[0m\u001b[37m\u001b[0m \u001b[1m0s\u001b[0m 33ms/step\n",
            "Negative (No Danger)\n"
          ]
        }
      ],
      "source": [
        "def predict_scream(file_path, model):\n",
        "    features = extract_features(file_path)\n",
        "    features = np.expand_dims(features, axis=0)  # Reshape for the model\n",
        "    prediction = model.predict(features)\n",
        "    return \"Positive (Danger)\" if prediction[0][0] > 0.5 else \"Negative (No Danger)\"\n",
        "\n",
        "# Example usage\n",
        "test_audio = \"/content/drive/MyDrive/ScreamDetection/test/test3n.wav\"\n",
        "print(predict_scream(test_audio, model))"
      ]
    },
    {
      "cell_type": "code",
      "execution_count": 19,
      "metadata": {
        "colab": {
          "base_uri": "https://localhost:8080/"
        },
        "id": "WMdx43OR1Yme",
        "outputId": "28946bca-0113-4fdc-941e-d7db54bc2cc2"
      },
      "outputs": [
        {
          "name": "stdout",
          "output_type": "stream",
          "text": [
            "\u001b[1m1/1\u001b[0m \u001b[32m━━━━━━━━━━━━━━━━━━━━\u001b[0m\u001b[37m\u001b[0m \u001b[1m0s\u001b[0m 29ms/step\n",
            "Negative (No Danger)\n"
          ]
        }
      ],
      "source": [
        "def predict_scream(file_path, model):\n",
        "    features = extract_features(file_path)\n",
        "    features = np.expand_dims(features, axis=0)  # Reshape for the model\n",
        "    prediction = model.predict(features)\n",
        "    return \"Positive (Danger)\" if prediction[0][0] > 0.5 else \"Negative (No Danger)\"\n",
        "\n",
        "# Example usage\n",
        "test_audio = \"/content/drive/MyDrive/ScreamDetection/test/test4n.wav\"\n",
        "print(predict_scream(test_audio, model))"
      ]
    },
    {
      "cell_type": "code",
      "execution_count": null,
      "metadata": {
        "id": "6eNm_vSd1cJV"
      },
      "outputs": [],
      "source": []
    }
  ],
  "metadata": {
    "colab": {
      "provenance": []
    },
    "kernelspec": {
      "display_name": "Python 3",
      "name": "python3"
    },
    "language_info": {
      "name": "python"
    }
  },
  "nbformat": 4,
  "nbformat_minor": 0
}
